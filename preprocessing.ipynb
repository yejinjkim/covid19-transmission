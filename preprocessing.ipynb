{
 "cells": [
  {
   "cell_type": "code",
   "execution_count": 1,
   "metadata": {},
   "outputs": [],
   "source": [
    "import numpy as np\n",
    "import pandas as pd\n",
    "import pickle\n",
    "import matplotlib as plt\n",
    "from pandas_profiling import ProfileReport\n",
    "from pivottablejs import pivot_ui"
   ]
  },
  {
   "cell_type": "code",
   "execution_count": 2,
   "metadata": {},
   "outputs": [],
   "source": [
    "data_path='data/'\n",
    "saved_path='saved_files/'"
   ]
  },
  {
   "cell_type": "markdown",
   "metadata": {},
   "source": [
    "## Patient as a node"
   ]
  },
  {
   "cell_type": "code",
   "execution_count": 3,
   "metadata": {},
   "outputs": [],
   "source": [
    "patient_korea=pd.read_csv(data_path+'PatientInfo.csv')"
   ]
  },
  {
   "cell_type": "code",
   "execution_count": 42,
   "metadata": {},
   "outputs": [
    {
     "data": {
      "text/html": [
       "<div>\n",
       "<style scoped>\n",
       "    .dataframe tbody tr th:only-of-type {\n",
       "        vertical-align: middle;\n",
       "    }\n",
       "\n",
       "    .dataframe tbody tr th {\n",
       "        vertical-align: top;\n",
       "    }\n",
       "\n",
       "    .dataframe thead th {\n",
       "        text-align: right;\n",
       "    }\n",
       "</style>\n",
       "<table border=\"1\" class=\"dataframe\">\n",
       "  <thead>\n",
       "    <tr style=\"text-align: right;\">\n",
       "      <th></th>\n",
       "      <th>patient_id</th>\n",
       "      <th>global_num</th>\n",
       "      <th>sex</th>\n",
       "      <th>birth_year</th>\n",
       "      <th>age</th>\n",
       "      <th>country</th>\n",
       "      <th>province</th>\n",
       "      <th>city</th>\n",
       "      <th>disease</th>\n",
       "      <th>infection_case</th>\n",
       "      <th>...</th>\n",
       "      <th>contact_number</th>\n",
       "      <th>symptom_onset_date</th>\n",
       "      <th>confirmed_date</th>\n",
       "      <th>released_date</th>\n",
       "      <th>deceased_date</th>\n",
       "      <th>state</th>\n",
       "      <th>actual_age</th>\n",
       "      <th>deceased</th>\n",
       "      <th>is_male</th>\n",
       "      <th>timestamp</th>\n",
       "    </tr>\n",
       "  </thead>\n",
       "  <tbody>\n",
       "    <tr>\n",
       "      <th>783</th>\n",
       "      <td>1400000001</td>\n",
       "      <td>1.0</td>\n",
       "      <td>female</td>\n",
       "      <td>1985.0</td>\n",
       "      <td>30s</td>\n",
       "      <td>China</td>\n",
       "      <td>Incheon</td>\n",
       "      <td>Incheon</td>\n",
       "      <td>NaN</td>\n",
       "      <td>overseas inflow</td>\n",
       "      <td>...</td>\n",
       "      <td>NaN</td>\n",
       "      <td>1/19/20</td>\n",
       "      <td>1/20/20</td>\n",
       "      <td>2/6/20</td>\n",
       "      <td>NaN</td>\n",
       "      <td>released</td>\n",
       "      <td>35.0</td>\n",
       "      <td>False</td>\n",
       "      <td>False</td>\n",
       "      <td>0 days</td>\n",
       "    </tr>\n",
       "    <tr>\n",
       "      <th>0</th>\n",
       "      <td>1000000001</td>\n",
       "      <td>2.0</td>\n",
       "      <td>male</td>\n",
       "      <td>1964.0</td>\n",
       "      <td>50s</td>\n",
       "      <td>Korea</td>\n",
       "      <td>Seoul</td>\n",
       "      <td>Gangseo-gu</td>\n",
       "      <td>NaN</td>\n",
       "      <td>overseas inflow</td>\n",
       "      <td>...</td>\n",
       "      <td>75.0</td>\n",
       "      <td>1/22/20</td>\n",
       "      <td>1/23/20</td>\n",
       "      <td>2/5/20</td>\n",
       "      <td>NaN</td>\n",
       "      <td>released</td>\n",
       "      <td>56.0</td>\n",
       "      <td>False</td>\n",
       "      <td>True</td>\n",
       "      <td>3 days</td>\n",
       "    </tr>\n",
       "    <tr>\n",
       "      <th>988</th>\n",
       "      <td>2000000001</td>\n",
       "      <td>3.0</td>\n",
       "      <td>male</td>\n",
       "      <td>1966.0</td>\n",
       "      <td>50s</td>\n",
       "      <td>Korea</td>\n",
       "      <td>Gyeonggi-do</td>\n",
       "      <td>Goyang-si</td>\n",
       "      <td>NaN</td>\n",
       "      <td>overseas inflow</td>\n",
       "      <td>...</td>\n",
       "      <td>16.0</td>\n",
       "      <td>NaN</td>\n",
       "      <td>1/26/20</td>\n",
       "      <td>2/12/20</td>\n",
       "      <td>NaN</td>\n",
       "      <td>released</td>\n",
       "      <td>54.0</td>\n",
       "      <td>False</td>\n",
       "      <td>True</td>\n",
       "      <td>6 days</td>\n",
       "    </tr>\n",
       "    <tr>\n",
       "      <th>989</th>\n",
       "      <td>2000000002</td>\n",
       "      <td>4.0</td>\n",
       "      <td>male</td>\n",
       "      <td>1964.0</td>\n",
       "      <td>50s</td>\n",
       "      <td>Korea</td>\n",
       "      <td>Gyeonggi-do</td>\n",
       "      <td>Pyeongtaek-si</td>\n",
       "      <td>NaN</td>\n",
       "      <td>overseas inflow</td>\n",
       "      <td>...</td>\n",
       "      <td>95.0</td>\n",
       "      <td>NaN</td>\n",
       "      <td>1/27/20</td>\n",
       "      <td>2/9/20</td>\n",
       "      <td>NaN</td>\n",
       "      <td>released</td>\n",
       "      <td>56.0</td>\n",
       "      <td>False</td>\n",
       "      <td>True</td>\n",
       "      <td>7 days</td>\n",
       "    </tr>\n",
       "    <tr>\n",
       "      <th>1</th>\n",
       "      <td>1000000002</td>\n",
       "      <td>5.0</td>\n",
       "      <td>male</td>\n",
       "      <td>1987.0</td>\n",
       "      <td>30s</td>\n",
       "      <td>Korea</td>\n",
       "      <td>Seoul</td>\n",
       "      <td>Jungnang-gu</td>\n",
       "      <td>NaN</td>\n",
       "      <td>overseas inflow</td>\n",
       "      <td>...</td>\n",
       "      <td>31.0</td>\n",
       "      <td>NaN</td>\n",
       "      <td>1/30/20</td>\n",
       "      <td>3/2/20</td>\n",
       "      <td>NaN</td>\n",
       "      <td>released</td>\n",
       "      <td>33.0</td>\n",
       "      <td>False</td>\n",
       "      <td>True</td>\n",
       "      <td>10 days</td>\n",
       "    </tr>\n",
       "  </tbody>\n",
       "</table>\n",
       "<p>5 rows × 22 columns</p>\n",
       "</div>"
      ],
      "text/plain": [
       "     patient_id  global_num     sex  birth_year  age country     province  \\\n",
       "783  1400000001         1.0  female      1985.0  30s   China      Incheon   \n",
       "0    1000000001         2.0    male      1964.0  50s   Korea        Seoul   \n",
       "988  2000000001         3.0    male      1966.0  50s   Korea  Gyeonggi-do   \n",
       "989  2000000002         4.0    male      1964.0  50s   Korea  Gyeonggi-do   \n",
       "1    1000000002         5.0    male      1987.0  30s   Korea        Seoul   \n",
       "\n",
       "              city disease   infection_case  ...  contact_number  \\\n",
       "783        Incheon     NaN  overseas inflow  ...             NaN   \n",
       "0       Gangseo-gu     NaN  overseas inflow  ...            75.0   \n",
       "988      Goyang-si     NaN  overseas inflow  ...            16.0   \n",
       "989  Pyeongtaek-si     NaN  overseas inflow  ...            95.0   \n",
       "1      Jungnang-gu     NaN  overseas inflow  ...            31.0   \n",
       "\n",
       "     symptom_onset_date  confirmed_date released_date deceased_date     state  \\\n",
       "783             1/19/20         1/20/20        2/6/20           NaN  released   \n",
       "0               1/22/20         1/23/20        2/5/20           NaN  released   \n",
       "988                 NaN         1/26/20       2/12/20           NaN  released   \n",
       "989                 NaN         1/27/20        2/9/20           NaN  released   \n",
       "1                   NaN         1/30/20        3/2/20           NaN  released   \n",
       "\n",
       "    actual_age deceased  is_male  timestamp  \n",
       "783       35.0    False    False     0 days  \n",
       "0         56.0    False     True     3 days  \n",
       "988       54.0    False     True     6 days  \n",
       "989       56.0    False     True     7 days  \n",
       "1         33.0    False     True    10 days  \n",
       "\n",
       "[5 rows x 22 columns]"
      ]
     },
     "execution_count": 42,
     "metadata": {},
     "output_type": "execute_result"
    }
   ],
   "source": [
    "patient_korea.head()"
   ]
  },
  {
   "cell_type": "markdown",
   "metadata": {},
   "source": [
    "manually deleted errorneous `infected_by` values that cause cycle"
   ]
  },
  {
   "cell_type": "code",
   "execution_count": 5,
   "metadata": {},
   "outputs": [],
   "source": [
    "#erroneous patient ID codes\n",
    "patient_korea.replace(2002000001, 2000000001, inplace=True)\n",
    "patient_korea.replace(2017000005, 2000000005, inplace=True)\n",
    "patient_korea.replace(6016000007, np.nan, inplace=True)\n",
    "patient_korea.replace(6100000384, 6100000038, inplace=True)"
   ]
  },
  {
   "cell_type": "code",
   "execution_count": 8,
   "metadata": {},
   "outputs": [],
   "source": [
    "#Preprocessing\n",
    "#Typos in city\n",
    "patient_korea.replace('pocheon-si', 'Pocheon-si', inplace=True)\n",
    "patient_korea.replace('Chunchun-si', 'Chuncheon-si', inplace=True)\n",
    "patient_korea.replace('etc', np.nan, inplace=True)\n",
    "patient_korea.replace('Wuhan', np.nan, inplace=True)\n",
    "\n",
    "#For those who have birth year\n",
    "current_year=2020\n",
    "patient_korea.loc[~patient_korea['birth_year'].isna(),'actual_age']=patient_korea.loc[~patient_korea['birth_year'].isna(),'birth_year'].apply(lambda x: current_year-x)\n",
    "\n",
    "#For those who don't have birth year\n",
    "patient_korea.loc[patient_korea['birth_year'].isna(),'actual_age']=patient_korea.loc[patient_korea['birth_year'].isna(),'age'].fillna('').apply(lambda x: int(x[:-1]) if x is not '' else np.nan)\n",
    "\n",
    "#deceased or not\n",
    "patient_korea['deceased']=patient_korea['state']=='deceased'\n",
    "\n",
    "#Missing fine grained location\n",
    "patient_korea.loc[patient_korea['city'].isna(), 'city']=patient_korea.loc[patient_korea['city'].isna(), 'province']\n",
    "\n",
    "#is man?\n",
    "patient_korea.loc[~patient_korea['sex'].isna(),'is_male']=patient_korea.loc[~patient_korea['sex'].isna(),'sex']=='male'\n"
   ]
  },
  {
   "cell_type": "code",
   "execution_count": 9,
   "metadata": {},
   "outputs": [],
   "source": [
    "#timestamp: day0 to confirmed date\n",
    "day0=pd.to_datetime(patient_korea['confirmed_date']).min()\n",
    "patient_korea['timestamp']=pd.to_datetime(patient_korea['confirmed_date']).apply(lambda x: x-day0)\n",
    "patient_korea.sort_values(by='timestamp',inplace=True)\n"
   ]
  },
  {
   "cell_type": "code",
   "execution_count": 10,
   "metadata": {},
   "outputs": [],
   "source": [
    "#delete duplicates\n",
    "patient_korea=patient_korea[~patient_korea['patient_id'].duplicated( keep='first')]"
   ]
  },
  {
   "cell_type": "code",
   "execution_count": 11,
   "metadata": {},
   "outputs": [],
   "source": [
    "#fill missing ages\n",
    "#no_age_but_birth_year=(patient_korea['age'].isna())&~(patient_korea['birth_year'].isna())\n",
    "#patient_korea.loc[no_age_but_birth_year, 'age']=patient_korea.loc[no_age_but_birth_year, 'birth_year'].apply(lambda x: 2020-x)"
   ]
  },
  {
   "cell_type": "code",
   "execution_count": 12,
   "metadata": {},
   "outputs": [],
   "source": [
    "features_of_interest=['patient_id','sex', 'is_male', 'actual_age', 'province', 'city', 'deceased', 'timestamp', 'disease']\n",
    "node_feature=patient_korea[features_of_interest]"
   ]
  },
  {
   "cell_type": "code",
   "execution_count": 13,
   "metadata": {},
   "outputs": [
    {
     "data": {
      "text/plain": [
       "patient_id       0\n",
       "sex             94\n",
       "is_male         94\n",
       "actual_age     105\n",
       "province         0\n",
       "city             0\n",
       "deceased         0\n",
       "timestamp        0\n",
       "disease       3109\n",
       "dtype: int64"
      ]
     },
     "execution_count": 13,
     "metadata": {},
     "output_type": "execute_result"
    }
   ],
   "source": [
    "#show missing values\n",
    "node_feature.isna().sum()"
   ]
  },
  {
   "cell_type": "code",
   "execution_count": 14,
   "metadata": {},
   "outputs": [],
   "source": [
    "#Link regional data\n",
    "region=pd.read_csv(data_path+'Region.csv')\n",
    "node_feature=pd.merge(node_feature, region, how='left', on=['province', 'city'])\n",
    "node_feature.drop(columns=['code'], inplace=True)"
   ]
  },
  {
   "cell_type": "code",
   "execution_count": 15,
   "metadata": {},
   "outputs": [
    {
     "data": {
      "text/plain": [
       "patient_id                     0\n",
       "sex                           94\n",
       "is_male                       94\n",
       "actual_age                   105\n",
       "province                       0\n",
       "city                           0\n",
       "deceased                       0\n",
       "timestamp                      0\n",
       "disease                     3109\n",
       "latitude                       1\n",
       "longitude                      1\n",
       "elementary_school_count        1\n",
       "kindergarten_count             1\n",
       "university_count               1\n",
       "academy_ratio                  1\n",
       "elderly_population_ratio       1\n",
       "elderly_alone_ratio            1\n",
       "nursing_home_count             1\n",
       "dtype: int64"
      ]
     },
     "execution_count": 15,
     "metadata": {},
     "output_type": "execute_result"
    }
   ],
   "source": [
    "#Show missing values\n",
    "node_feature.isna().sum()"
   ]
  },
  {
   "cell_type": "code",
   "execution_count": 16,
   "metadata": {},
   "outputs": [
    {
     "data": {
      "text/html": [
       "<div>\n",
       "<style scoped>\n",
       "    .dataframe tbody tr th:only-of-type {\n",
       "        vertical-align: middle;\n",
       "    }\n",
       "\n",
       "    .dataframe tbody tr th {\n",
       "        vertical-align: top;\n",
       "    }\n",
       "\n",
       "    .dataframe thead th {\n",
       "        text-align: right;\n",
       "    }\n",
       "</style>\n",
       "<table border=\"1\" class=\"dataframe\">\n",
       "  <thead>\n",
       "    <tr style=\"text-align: right;\">\n",
       "      <th></th>\n",
       "      <th>patient_id</th>\n",
       "      <th>sex</th>\n",
       "      <th>is_male</th>\n",
       "      <th>actual_age</th>\n",
       "      <th>province</th>\n",
       "      <th>city</th>\n",
       "      <th>deceased</th>\n",
       "      <th>timestamp</th>\n",
       "      <th>disease</th>\n",
       "      <th>latitude</th>\n",
       "      <th>longitude</th>\n",
       "      <th>elementary_school_count</th>\n",
       "      <th>kindergarten_count</th>\n",
       "      <th>university_count</th>\n",
       "      <th>academy_ratio</th>\n",
       "      <th>elderly_population_ratio</th>\n",
       "      <th>elderly_alone_ratio</th>\n",
       "      <th>nursing_home_count</th>\n",
       "    </tr>\n",
       "  </thead>\n",
       "  <tbody>\n",
       "    <tr>\n",
       "      <th>0</th>\n",
       "      <td>1400000001</td>\n",
       "      <td>female</td>\n",
       "      <td>False</td>\n",
       "      <td>35.0</td>\n",
       "      <td>Incheon</td>\n",
       "      <td>Incheon</td>\n",
       "      <td>False</td>\n",
       "      <td>0 days</td>\n",
       "      <td>NaN</td>\n",
       "      <td>37.456188</td>\n",
       "      <td>126.705920</td>\n",
       "      <td>250.0</td>\n",
       "      <td>403.0</td>\n",
       "      <td>7.0</td>\n",
       "      <td>1.27</td>\n",
       "      <td>13.20</td>\n",
       "      <td>5.8</td>\n",
       "      <td>4497.0</td>\n",
       "    </tr>\n",
       "    <tr>\n",
       "      <th>1</th>\n",
       "      <td>1000000001</td>\n",
       "      <td>male</td>\n",
       "      <td>True</td>\n",
       "      <td>56.0</td>\n",
       "      <td>Seoul</td>\n",
       "      <td>Gangseo-gu</td>\n",
       "      <td>False</td>\n",
       "      <td>3 days</td>\n",
       "      <td>NaN</td>\n",
       "      <td>37.551166</td>\n",
       "      <td>126.849506</td>\n",
       "      <td>36.0</td>\n",
       "      <td>56.0</td>\n",
       "      <td>1.0</td>\n",
       "      <td>1.17</td>\n",
       "      <td>14.39</td>\n",
       "      <td>5.7</td>\n",
       "      <td>1080.0</td>\n",
       "    </tr>\n",
       "    <tr>\n",
       "      <th>2</th>\n",
       "      <td>2000000001</td>\n",
       "      <td>male</td>\n",
       "      <td>True</td>\n",
       "      <td>54.0</td>\n",
       "      <td>Gyeonggi-do</td>\n",
       "      <td>Goyang-si</td>\n",
       "      <td>False</td>\n",
       "      <td>6 days</td>\n",
       "      <td>NaN</td>\n",
       "      <td>37.658363</td>\n",
       "      <td>126.831961</td>\n",
       "      <td>84.0</td>\n",
       "      <td>171.0</td>\n",
       "      <td>2.0</td>\n",
       "      <td>1.88</td>\n",
       "      <td>12.82</td>\n",
       "      <td>5.2</td>\n",
       "      <td>1608.0</td>\n",
       "    </tr>\n",
       "    <tr>\n",
       "      <th>3</th>\n",
       "      <td>2000000002</td>\n",
       "      <td>male</td>\n",
       "      <td>True</td>\n",
       "      <td>56.0</td>\n",
       "      <td>Gyeonggi-do</td>\n",
       "      <td>Pyeongtaek-si</td>\n",
       "      <td>False</td>\n",
       "      <td>7 days</td>\n",
       "      <td>NaN</td>\n",
       "      <td>36.992293</td>\n",
       "      <td>127.112709</td>\n",
       "      <td>58.0</td>\n",
       "      <td>108.0</td>\n",
       "      <td>3.0</td>\n",
       "      <td>1.39</td>\n",
       "      <td>12.13</td>\n",
       "      <td>5.6</td>\n",
       "      <td>765.0</td>\n",
       "    </tr>\n",
       "    <tr>\n",
       "      <th>4</th>\n",
       "      <td>1000000002</td>\n",
       "      <td>male</td>\n",
       "      <td>True</td>\n",
       "      <td>33.0</td>\n",
       "      <td>Seoul</td>\n",
       "      <td>Jungnang-gu</td>\n",
       "      <td>False</td>\n",
       "      <td>10 days</td>\n",
       "      <td>NaN</td>\n",
       "      <td>37.606832</td>\n",
       "      <td>127.092656</td>\n",
       "      <td>23.0</td>\n",
       "      <td>31.0</td>\n",
       "      <td>1.0</td>\n",
       "      <td>0.70</td>\n",
       "      <td>16.65</td>\n",
       "      <td>6.9</td>\n",
       "      <td>689.0</td>\n",
       "    </tr>\n",
       "  </tbody>\n",
       "</table>\n",
       "</div>"
      ],
      "text/plain": [
       "   patient_id     sex is_male  actual_age     province           city  \\\n",
       "0  1400000001  female   False        35.0      Incheon        Incheon   \n",
       "1  1000000001    male    True        56.0        Seoul     Gangseo-gu   \n",
       "2  2000000001    male    True        54.0  Gyeonggi-do      Goyang-si   \n",
       "3  2000000002    male    True        56.0  Gyeonggi-do  Pyeongtaek-si   \n",
       "4  1000000002    male    True        33.0        Seoul    Jungnang-gu   \n",
       "\n",
       "   deceased timestamp disease   latitude   longitude  elementary_school_count  \\\n",
       "0     False    0 days     NaN  37.456188  126.705920                    250.0   \n",
       "1     False    3 days     NaN  37.551166  126.849506                     36.0   \n",
       "2     False    6 days     NaN  37.658363  126.831961                     84.0   \n",
       "3     False    7 days     NaN  36.992293  127.112709                     58.0   \n",
       "4     False   10 days     NaN  37.606832  127.092656                     23.0   \n",
       "\n",
       "   kindergarten_count  university_count  academy_ratio  \\\n",
       "0               403.0               7.0           1.27   \n",
       "1                56.0               1.0           1.17   \n",
       "2               171.0               2.0           1.88   \n",
       "3               108.0               3.0           1.39   \n",
       "4                31.0               1.0           0.70   \n",
       "\n",
       "   elderly_population_ratio  elderly_alone_ratio  nursing_home_count  \n",
       "0                     13.20                  5.8              4497.0  \n",
       "1                     14.39                  5.7              1080.0  \n",
       "2                     12.82                  5.2              1608.0  \n",
       "3                     12.13                  5.6               765.0  \n",
       "4                     16.65                  6.9               689.0  "
      ]
     },
     "execution_count": 16,
     "metadata": {},
     "output_type": "execute_result"
    }
   ],
   "source": [
    "node_feature.head()"
   ]
  },
  {
   "cell_type": "markdown",
   "metadata": {},
   "source": [
    "## Case as a virtual patient"
   ]
  },
  {
   "cell_type": "code",
   "execution_count": 17,
   "metadata": {},
   "outputs": [],
   "source": [
    "#case=pd.read_csv(data_path+'korea/Case.csv')\n",
    "#case['infection_case'].unique()"
   ]
  },
  {
   "cell_type": "code",
   "execution_count": 18,
   "metadata": {},
   "outputs": [
    {
     "data": {
      "text/plain": [
       "array(['overseas inflow', 'contact with patient', 'Shincheonji Church',\n",
       "       nan, 'Seongdong-gu APT', 'Cheongdo Daenam Hospital',\n",
       "       'Pilgrimage to Israel', 'Onchun Church',\n",
       "       \"Eunpyeong St. Mary's Hospital\", 'Milal Shelter',\n",
       "       'gym facility in Cheonan', 'Suyeong-gu Kindergarten',\n",
       "       'Geochang Church', 'Changnyeong Coin Karaoke',\n",
       "       'Gyeongsan Seorin Nursing Home', 'Bonghwa Pureun Nursing Home',\n",
       "       'Dongan Church', 'Gyeongsan Cham Joeun Community Center',\n",
       "       'Gyeongsan Jeil Silver Town', 'gym facility in Sejong',\n",
       "       'Guro-gu Call Center', 'Ministry of Oceans and Fisheries',\n",
       "       'River of Grace Community Church'], dtype=object)"
      ]
     },
     "execution_count": 18,
     "metadata": {},
     "output_type": "execute_result"
    }
   ],
   "source": [
    "#Unique local cluster infection cases\n",
    "patient_korea['infection_case'].unique()"
   ]
  },
  {
   "cell_type": "code",
   "execution_count": 19,
   "metadata": {},
   "outputs": [],
   "source": [
    "# case=pd.read_csv(data_path+'korea/Case.csv')\n",
    "# #select group case\n",
    "# case_feature=case.loc[(case['group'])&(case['latitude']!='-'),['case_id', 'province', 'city','infection_case','latitude', 'longitude']]\n",
    "# #get most frequenct demographic feature for each group infection case\n",
    "case_feature=pd.merge(patient_korea.groupby('infection_case')['is_male', 'deceased'].agg(lambda x:x.value_counts().index[0]),\n",
    "          patient_korea.groupby('infection_case')['actual_age'].mean(), left_index=True, right_index=True).reset_index()\n",
    "# #add most frequent demographic feature \n",
    "#case_feature=pd.merge(case_feature, case_demo, how='inner',on='infection_case')\n",
    "\n",
    "case_feature=pd.merge(case_feature, \n",
    "          patient_korea.groupby('infection_case')['timestamp'].first().reset_index(), \n",
    "          how='inner', on='infection_case')\n",
    "\n",
    "# case_feature=pd.merge(case_feature, region.drop(columns=['latitude','longitude','code']), how='left', on=['province', 'city'])\n",
    "\n",
    "\n"
   ]
  },
  {
   "cell_type": "code",
   "execution_count": 20,
   "metadata": {},
   "outputs": [
    {
     "data": {
      "text/html": [
       "<div>\n",
       "<style scoped>\n",
       "    .dataframe tbody tr th:only-of-type {\n",
       "        vertical-align: middle;\n",
       "    }\n",
       "\n",
       "    .dataframe tbody tr th {\n",
       "        vertical-align: top;\n",
       "    }\n",
       "\n",
       "    .dataframe thead th {\n",
       "        text-align: right;\n",
       "    }\n",
       "</style>\n",
       "<table border=\"1\" class=\"dataframe\">\n",
       "  <thead>\n",
       "    <tr style=\"text-align: right;\">\n",
       "      <th></th>\n",
       "      <th>infection_case</th>\n",
       "      <th>is_male</th>\n",
       "      <th>deceased</th>\n",
       "      <th>actual_age</th>\n",
       "      <th>timestamp</th>\n",
       "    </tr>\n",
       "  </thead>\n",
       "  <tbody>\n",
       "    <tr>\n",
       "      <th>0</th>\n",
       "      <td>Bonghwa Pureun Nursing Home</td>\n",
       "      <td>False</td>\n",
       "      <td>False</td>\n",
       "      <td>69.741935</td>\n",
       "      <td>44 days</td>\n",
       "    </tr>\n",
       "    <tr>\n",
       "      <th>1</th>\n",
       "      <td>Changnyeong Coin Karaoke</td>\n",
       "      <td>True</td>\n",
       "      <td>False</td>\n",
       "      <td>31.250000</td>\n",
       "      <td>39 days</td>\n",
       "    </tr>\n",
       "    <tr>\n",
       "      <th>2</th>\n",
       "      <td>Cheongdo Daenam Hospital</td>\n",
       "      <td>True</td>\n",
       "      <td>False</td>\n",
       "      <td>50.619048</td>\n",
       "      <td>30 days</td>\n",
       "    </tr>\n",
       "    <tr>\n",
       "      <th>3</th>\n",
       "      <td>Dongan Church</td>\n",
       "      <td>True</td>\n",
       "      <td>False</td>\n",
       "      <td>38.647059</td>\n",
       "      <td>44 days</td>\n",
       "    </tr>\n",
       "    <tr>\n",
       "      <th>4</th>\n",
       "      <td>Eunpyeong St. Mary's Hospital</td>\n",
       "      <td>False</td>\n",
       "      <td>False</td>\n",
       "      <td>59.937500</td>\n",
       "      <td>32 days</td>\n",
       "    </tr>\n",
       "  </tbody>\n",
       "</table>\n",
       "</div>"
      ],
      "text/plain": [
       "                  infection_case  is_male  deceased  actual_age timestamp\n",
       "0    Bonghwa Pureun Nursing Home    False     False   69.741935   44 days\n",
       "1       Changnyeong Coin Karaoke     True     False   31.250000   39 days\n",
       "2       Cheongdo Daenam Hospital     True     False   50.619048   30 days\n",
       "3                  Dongan Church     True     False   38.647059   44 days\n",
       "4  Eunpyeong St. Mary's Hospital    False     False   59.937500   32 days"
      ]
     },
     "execution_count": 20,
     "metadata": {},
     "output_type": "execute_result"
    }
   ],
   "source": [
    "case_feature.head()"
   ]
  },
  {
   "cell_type": "code",
   "execution_count": 21,
   "metadata": {},
   "outputs": [],
   "source": [
    "#case_feature.replace('Boram-dong', 'Sejong', inplace=True)\n",
    "#case_feature.replace('Eojin-dong', 'Sejong', inplace=True)"
   ]
  },
  {
   "cell_type": "markdown",
   "metadata": {},
   "source": [
    "## Aggregate group infection and individual patient"
   ]
  },
  {
   "cell_type": "code",
   "execution_count": 22,
   "metadata": {
    "scrolled": true
   },
   "outputs": [
    {
     "name": "stderr",
     "output_type": "stream",
     "text": [
      "/opt/conda/lib/python3.7/site-packages/ipykernel_launcher.py:3: FutureWarning: Sorting because non-concatenation axis is not aligned. A future version\n",
      "of pandas will change to not sort by default.\n",
      "\n",
      "To accept the future behavior, pass 'sort=False'.\n",
      "\n",
      "To retain the current behavior and silence the warning, pass 'sort=True'.\n",
      "\n",
      "  This is separate from the ipykernel package so we can avoid doing imports until\n"
     ]
    }
   ],
   "source": [
    "# #aggregate patient demo and virtual patient's demo\n",
    "agg_feature=pd.concat([case_feature.rename(columns={'infection_case':'id'}),\n",
    "            node_feature.rename(columns={'patient_id':'id'})], axis=0)\n",
    "agg_feature.sort_values(by='timestamp', inplace=True)#.head()\n",
    "#agg_feature = node_feature.rename(columns={'patient_id':'id'})"
   ]
  },
  {
   "cell_type": "code",
   "execution_count": 23,
   "metadata": {},
   "outputs": [
    {
     "data": {
      "text/html": [
       "<div>\n",
       "<style scoped>\n",
       "    .dataframe tbody tr th:only-of-type {\n",
       "        vertical-align: middle;\n",
       "    }\n",
       "\n",
       "    .dataframe tbody tr th {\n",
       "        vertical-align: top;\n",
       "    }\n",
       "\n",
       "    .dataframe thead th {\n",
       "        text-align: right;\n",
       "    }\n",
       "</style>\n",
       "<table border=\"1\" class=\"dataframe\">\n",
       "  <thead>\n",
       "    <tr style=\"text-align: right;\">\n",
       "      <th></th>\n",
       "      <th>academy_ratio</th>\n",
       "      <th>actual_age</th>\n",
       "      <th>city</th>\n",
       "      <th>deceased</th>\n",
       "      <th>disease</th>\n",
       "      <th>elderly_alone_ratio</th>\n",
       "      <th>elderly_population_ratio</th>\n",
       "      <th>elementary_school_count</th>\n",
       "      <th>id</th>\n",
       "      <th>is_male</th>\n",
       "      <th>kindergarten_count</th>\n",
       "      <th>latitude</th>\n",
       "      <th>longitude</th>\n",
       "      <th>nursing_home_count</th>\n",
       "      <th>province</th>\n",
       "      <th>sex</th>\n",
       "      <th>timestamp</th>\n",
       "      <th>university_count</th>\n",
       "    </tr>\n",
       "  </thead>\n",
       "  <tbody>\n",
       "    <tr>\n",
       "      <th>0</th>\n",
       "      <td>1.27</td>\n",
       "      <td>35.000000</td>\n",
       "      <td>Incheon</td>\n",
       "      <td>False</td>\n",
       "      <td>NaN</td>\n",
       "      <td>5.8</td>\n",
       "      <td>13.20</td>\n",
       "      <td>250.0</td>\n",
       "      <td>1400000001</td>\n",
       "      <td>False</td>\n",
       "      <td>403.0</td>\n",
       "      <td>37.456188</td>\n",
       "      <td>126.705920</td>\n",
       "      <td>4497.0</td>\n",
       "      <td>Incheon</td>\n",
       "      <td>female</td>\n",
       "      <td>0 days</td>\n",
       "      <td>7.0</td>\n",
       "    </tr>\n",
       "    <tr>\n",
       "      <th>21</th>\n",
       "      <td>NaN</td>\n",
       "      <td>33.201456</td>\n",
       "      <td>NaN</td>\n",
       "      <td>False</td>\n",
       "      <td>NaN</td>\n",
       "      <td>NaN</td>\n",
       "      <td>NaN</td>\n",
       "      <td>NaN</td>\n",
       "      <td>overseas inflow</td>\n",
       "      <td>True</td>\n",
       "      <td>NaN</td>\n",
       "      <td>NaN</td>\n",
       "      <td>NaN</td>\n",
       "      <td>NaN</td>\n",
       "      <td>NaN</td>\n",
       "      <td>NaN</td>\n",
       "      <td>0 days</td>\n",
       "      <td>NaN</td>\n",
       "    </tr>\n",
       "    <tr>\n",
       "      <th>1</th>\n",
       "      <td>1.17</td>\n",
       "      <td>56.000000</td>\n",
       "      <td>Gangseo-gu</td>\n",
       "      <td>False</td>\n",
       "      <td>NaN</td>\n",
       "      <td>5.7</td>\n",
       "      <td>14.39</td>\n",
       "      <td>36.0</td>\n",
       "      <td>1000000001</td>\n",
       "      <td>True</td>\n",
       "      <td>56.0</td>\n",
       "      <td>37.551166</td>\n",
       "      <td>126.849506</td>\n",
       "      <td>1080.0</td>\n",
       "      <td>Seoul</td>\n",
       "      <td>male</td>\n",
       "      <td>3 days</td>\n",
       "      <td>1.0</td>\n",
       "    </tr>\n",
       "    <tr>\n",
       "      <th>2</th>\n",
       "      <td>1.88</td>\n",
       "      <td>54.000000</td>\n",
       "      <td>Goyang-si</td>\n",
       "      <td>False</td>\n",
       "      <td>NaN</td>\n",
       "      <td>5.2</td>\n",
       "      <td>12.82</td>\n",
       "      <td>84.0</td>\n",
       "      <td>2000000001</td>\n",
       "      <td>True</td>\n",
       "      <td>171.0</td>\n",
       "      <td>37.658363</td>\n",
       "      <td>126.831961</td>\n",
       "      <td>1608.0</td>\n",
       "      <td>Gyeonggi-do</td>\n",
       "      <td>male</td>\n",
       "      <td>6 days</td>\n",
       "      <td>2.0</td>\n",
       "    </tr>\n",
       "    <tr>\n",
       "      <th>3</th>\n",
       "      <td>1.39</td>\n",
       "      <td>56.000000</td>\n",
       "      <td>Pyeongtaek-si</td>\n",
       "      <td>False</td>\n",
       "      <td>NaN</td>\n",
       "      <td>5.6</td>\n",
       "      <td>12.13</td>\n",
       "      <td>58.0</td>\n",
       "      <td>2000000002</td>\n",
       "      <td>True</td>\n",
       "      <td>108.0</td>\n",
       "      <td>36.992293</td>\n",
       "      <td>127.112709</td>\n",
       "      <td>765.0</td>\n",
       "      <td>Gyeonggi-do</td>\n",
       "      <td>male</td>\n",
       "      <td>7 days</td>\n",
       "      <td>3.0</td>\n",
       "    </tr>\n",
       "  </tbody>\n",
       "</table>\n",
       "</div>"
      ],
      "text/plain": [
       "    academy_ratio  actual_age           city  deceased disease  \\\n",
       "0            1.27   35.000000        Incheon     False     NaN   \n",
       "21            NaN   33.201456            NaN     False     NaN   \n",
       "1            1.17   56.000000     Gangseo-gu     False     NaN   \n",
       "2            1.88   54.000000      Goyang-si     False     NaN   \n",
       "3            1.39   56.000000  Pyeongtaek-si     False     NaN   \n",
       "\n",
       "    elderly_alone_ratio  elderly_population_ratio  elementary_school_count  \\\n",
       "0                   5.8                     13.20                    250.0   \n",
       "21                  NaN                       NaN                      NaN   \n",
       "1                   5.7                     14.39                     36.0   \n",
       "2                   5.2                     12.82                     84.0   \n",
       "3                   5.6                     12.13                     58.0   \n",
       "\n",
       "                 id is_male  kindergarten_count   latitude   longitude  \\\n",
       "0        1400000001   False               403.0  37.456188  126.705920   \n",
       "21  overseas inflow    True                 NaN        NaN         NaN   \n",
       "1        1000000001    True                56.0  37.551166  126.849506   \n",
       "2        2000000001    True               171.0  37.658363  126.831961   \n",
       "3        2000000002    True               108.0  36.992293  127.112709   \n",
       "\n",
       "    nursing_home_count     province     sex timestamp  university_count  \n",
       "0               4497.0      Incheon  female    0 days               7.0  \n",
       "21                 NaN          NaN     NaN    0 days               NaN  \n",
       "1               1080.0        Seoul    male    3 days               1.0  \n",
       "2               1608.0  Gyeonggi-do    male    6 days               2.0  \n",
       "3                765.0  Gyeonggi-do    male    7 days               3.0  "
      ]
     },
     "execution_count": 23,
     "metadata": {},
     "output_type": "execute_result"
    }
   ],
   "source": [
    "agg_feature.head()"
   ]
  },
  {
   "cell_type": "code",
   "execution_count": 24,
   "metadata": {},
   "outputs": [],
   "source": [
    "#agg_feature['age'].fillna('')\n",
    "#agg_feature['age']=agg_feature['age'].fillna('').apply(lambda x: int(x[:-1]) if x!='' else '')"
   ]
  },
  {
   "cell_type": "code",
   "execution_count": 25,
   "metadata": {},
   "outputs": [],
   "source": [
    "#agg_feature.loc[~agg_feature['sex'].isna(),'is_male']=agg_feature.loc[~agg_feature['sex'],'sex']=='male'\n",
    "#agg_feature.drop(columns=['city'],inplace=True)"
   ]
  },
  {
   "cell_type": "code",
   "execution_count": 26,
   "metadata": {},
   "outputs": [],
   "source": [
    "#missing age\n",
    "agg_feature['actual_age']=agg_feature['actual_age'].fillna(agg_feature.groupby(['province','city'])['actual_age'].transform('mean'))\n",
    "agg_feature['actual_age']=agg_feature['actual_age'].fillna(agg_feature.groupby(['province'])['actual_age'].transform('mean'))\n"
   ]
  },
  {
   "cell_type": "code",
   "execution_count": 27,
   "metadata": {},
   "outputs": [],
   "source": [
    "agg_feature['latitude']=agg_feature['latitude'].astype(float)\n",
    "agg_feature['longitude']=agg_feature['longitude'].astype(float)"
   ]
  },
  {
   "cell_type": "code",
   "execution_count": 28,
   "metadata": {},
   "outputs": [],
   "source": [
    "#agg_feature_drop = agg_feature.dropna()"
   ]
  },
  {
   "cell_type": "markdown",
   "metadata": {},
   "source": [
    "## Edge index"
   ]
  },
  {
   "cell_type": "code",
   "execution_count": 29,
   "metadata": {},
   "outputs": [],
   "source": [
    "edge_ind=patient_korea[['patient_id','infected_by']].dropna()\n"
   ]
  },
  {
   "cell_type": "code",
   "execution_count": 30,
   "metadata": {},
   "outputs": [],
   "source": [
    "#edge_group=patient_korea.loc[patient_korea['infection_case'].isin(case_feature['infection_case'].unique()), ['patient_id','infection_case']]\n",
    "#edge_group=edge_group.loc[~edge_group['patient_id'].isin(edge_ind['patient_id'].unique()),:]\n",
    "\n",
    "edge_group=patient_korea.loc[~patient_korea['patient_id'].isin(edge_ind['patient_id'].unique()), ['patient_id','infection_case']].dropna()\n",
    "edge_group=edge_group[~(edge_group['infection_case']=='contact with patient')]"
   ]
  },
  {
   "cell_type": "code",
   "execution_count": 31,
   "metadata": {},
   "outputs": [],
   "source": [
    "edge_agg=pd.concat([edge_ind.astype(int).astype(str), edge_group.rename(columns={'infection_case':'infected_by'})])\n"
   ]
  },
  {
   "cell_type": "code",
   "execution_count": 32,
   "metadata": {},
   "outputs": [
    {
     "data": {
      "text/plain": [
       "(725, 884)"
      ]
     },
     "execution_count": 32,
     "metadata": {},
     "output_type": "execute_result"
    }
   ],
   "source": [
    "len(edge_ind),len(edge_group)\n",
    "#pd.concat([edge_ind.astype(int).astype(str), edge_group.rename(columns={'infection_case':'infected_by'})])"
   ]
  },
  {
   "cell_type": "markdown",
   "metadata": {},
   "source": [
    "## Item to idx mapping"
   ]
  },
  {
   "cell_type": "code",
   "execution_count": 33,
   "metadata": {},
   "outputs": [],
   "source": [
    "from sklearn.preprocessing import LabelEncoder"
   ]
  },
  {
   "cell_type": "code",
   "execution_count": 34,
   "metadata": {},
   "outputs": [],
   "source": [
    "# # Focus on patients who have edges\n",
    "# le=LabelEncoder()\n",
    "# le.fit(np.concatenate((edge_agg['patie nt_id'].unique(), edge_agg['infected_by'] )).astype(str))\n",
    "\n",
    "# edge_agg['patient_id']=le.transform(edge_agg['patient_id'].astype(str))\n",
    "# edge_agg['infected_by']=le.transform(edge_agg['infected_by'].astype(str))\n",
    "\n",
    "# agg_feature_drop=agg_feature_drop.loc[agg_feature_drop['id'].astype(str).isin(le.classes_),:]\n",
    "# agg_feature_drop['id']=le.transform(agg_feature_drop['id'].astype(str))\\\n",
    "\n",
    "\n",
    "#le.fit(agg_feature['id'].astype(str))\n",
    "\n",
    "#le.fit(agg_feature_drop['id'].astype(str))\n",
    "#le.fit(np.concatenate([agg_feature['id'].astype(str),\n",
    "#                      edge_agg['infected_by'].astype(str)]))\n",
    "\n",
    "#agg_feature['id']=le.transform(agg_feature['id'].astype(str))\n",
    "##agg_feature_drop['id']=le.transform(agg_feature_drop['id'].astype(str))\n",
    "\n",
    "#agg_feature=agg_feature.sort_values(by='id')#.set_index(keys='id')\n",
    "##agg_feature_drop=agg_feature_drop.sort_values(by='id').set_index(keys='id')\n",
    "\n",
    "#agg_feature=agg_feature.sort_values(by='timestamp').reset_index(drop=True)\n",
    "\n",
    "# edge_agg['patient_id']=le.transform(edge_agg['patient_id'].astype(str))\n",
    "# edge_agg=edge_agg.loc[edge_agg['infected_by'].isin(le.classes_)]\n",
    "# edge_agg['infected_by']=le.transform(edge_agg['infected_by'].astype(str))"
   ]
  },
  {
   "cell_type": "code",
   "execution_count": 35,
   "metadata": {},
   "outputs": [],
   "source": [
    "# Include all patients\n",
    "le=LabelEncoder()\n",
    "le.fit(np.concatenate((edge_agg['patient_id'].astype(str), edge_agg['infected_by'].astype(str))))\n",
    "edge_agg['patient_id']=le.transform(edge_agg['patient_id'].astype(str))\n",
    "edge_agg['infected_by']=le.transform(edge_agg['infected_by'].astype(str))\n",
    "\n",
    "#agg_feature['id']=le.transform(agg_feature['id'].astype(str))\n",
    "#agg_feature=agg_feature.sort_values(by='id')#.set_index(keys='id')\n",
    "#agg_feature=agg_feature.sort_values(by='timestamp').reset_index(drop=True)\n"
   ]
  },
  {
   "cell_type": "code",
   "execution_count": 36,
   "metadata": {},
   "outputs": [],
   "source": [
    "agg_feature_w_edge=agg_feature[agg_feature['id'].astype(str).isin(le.classes_)]"
   ]
  },
  {
   "cell_type": "code",
   "execution_count": 37,
   "metadata": {},
   "outputs": [
    {
     "name": "stderr",
     "output_type": "stream",
     "text": [
      "/opt/conda/lib/python3.7/site-packages/pandas/core/frame.py:4238: SettingWithCopyWarning: \n",
      "A value is trying to be set on a copy of a slice from a DataFrame\n",
      "\n",
      "See the caveats in the documentation: http://pandas.pydata.org/pandas-docs/stable/user_guide/indexing.html#returning-a-view-versus-a-copy\n",
      "  return super().rename(**kwargs)\n",
      "/opt/conda/lib/python3.7/site-packages/ipykernel_launcher.py:2: SettingWithCopyWarning: \n",
      "A value is trying to be set on a copy of a slice from a DataFrame.\n",
      "Try using .loc[row_indexer,col_indexer] = value instead\n",
      "\n",
      "See the caveats in the documentation: http://pandas.pydata.org/pandas-docs/stable/user_guide/indexing.html#returning-a-view-versus-a-copy\n",
      "  \n",
      "/opt/conda/lib/python3.7/site-packages/ipykernel_launcher.py:3: SettingWithCopyWarning: \n",
      "A value is trying to be set on a copy of a slice from a DataFrame.\n",
      "Try using .loc[row_indexer,col_indexer] = value instead\n",
      "\n",
      "See the caveats in the documentation: http://pandas.pydata.org/pandas-docs/stable/user_guide/indexing.html#returning-a-view-versus-a-copy\n",
      "  This is separate from the ipykernel package so we can avoid doing imports until\n",
      "/opt/conda/lib/python3.7/site-packages/ipykernel_launcher.py:4: SettingWithCopyWarning: \n",
      "A value is trying to be set on a copy of a slice from a DataFrame.\n",
      "Try using .loc[row_indexer,col_indexer] = value instead\n",
      "\n",
      "See the caveats in the documentation: http://pandas.pydata.org/pandas-docs/stable/user_guide/indexing.html#returning-a-view-versus-a-copy\n",
      "  after removing the cwd from sys.path.\n",
      "/opt/conda/lib/python3.7/site-packages/ipykernel_launcher.py:5: SettingWithCopyWarning: \n",
      "A value is trying to be set on a copy of a slice from a DataFrame\n",
      "\n",
      "See the caveats in the documentation: http://pandas.pydata.org/pandas-docs/stable/user_guide/indexing.html#returning-a-view-versus-a-copy\n",
      "  \"\"\"\n"
     ]
    }
   ],
   "source": [
    "agg_feature_w_edge.rename(columns={'id':'name'}, inplace=True)\n",
    "agg_feature_w_edge['name']=agg_feature_w_edge['name'].astype(str)\n",
    "agg_feature_w_edge['id']=le.transform(agg_feature_w_edge['name'].astype(str))\n",
    "agg_feature_w_edge['is_male']=agg_feature_w_edge['is_male'].astype(bool)\n",
    "agg_feature_w_edge.sort_values(by='timestamp', inplace=True)"
   ]
  },
  {
   "cell_type": "code",
   "execution_count": 38,
   "metadata": {},
   "outputs": [
    {
     "data": {
      "text/html": [
       "\n",
       "        <iframe\n",
       "            width=\"100%\"\n",
       "            height=\"500\"\n",
       "            src=\"plots/patient_demographics.html\"\n",
       "            frameborder=\"0\"\n",
       "            allowfullscreen\n",
       "        ></iframe>\n",
       "        "
      ],
      "text/plain": [
       "<IPython.lib.display.IFrame at 0x7fd76dc76090>"
      ]
     },
     "execution_count": 38,
     "metadata": {},
     "output_type": "execute_result"
    }
   ],
   "source": [
    "#Patients demographic features table\n",
    "temp=agg_feature_w_edge.loc[agg_feature_w_edge['name'].apply(lambda x: x.isdigit())]\n",
    "pivot_ui(temp, outfile_path='plots/patient_demographics.html')\n"
   ]
  },
  {
   "cell_type": "code",
   "execution_count": 39,
   "metadata": {},
   "outputs": [],
   "source": [
    "# missing sex\n",
    "# agg_feature['is_male']=agg_feature.groupby(['province','city'])['is_male'].apply(lambda x: x.fillna(x.mode()))\n",
    "# agg_feature['is_male']=\n",
    "# agg_feature['is_male'].fillna()\n",
    "# agg_feature.groupby(['province','city'])['is_male'].transform(lambda x:x.value_counts().index[0] if len(x)>0 else -1)\n",
    "# agg_feature['actual_age']=agg_feature['actual_age'].fillna(agg_feature.groupby(['province'])['actual_age'].transform('mean'))\n"
   ]
  },
  {
   "cell_type": "code",
   "execution_count": 40,
   "metadata": {},
   "outputs": [],
   "source": [
    "#Save\n",
    "pickle.dump(agg_feature_w_edge, open(saved_path+'node_feature.p', 'wb'))\n",
    "pickle.dump(edge_agg, open(saved_path+'edge_index.p', 'wb'))\n",
    "pickle.dump(le, open(saved_path+'id_LabelEncoder.p','wb'))"
   ]
  },
  {
   "cell_type": "code",
   "execution_count": null,
   "metadata": {},
   "outputs": [],
   "source": []
  }
 ],
 "metadata": {
  "kernelspec": {
   "display_name": "Python 3",
   "language": "python",
   "name": "python3"
  },
  "language_info": {
   "codemirror_mode": {
    "name": "ipython",
    "version": 3
   },
   "file_extension": ".py",
   "mimetype": "text/x-python",
   "name": "python",
   "nbconvert_exporter": "python",
   "pygments_lexer": "ipython3",
   "version": "3.7.4"
  }
 },
 "nbformat": 4,
 "nbformat_minor": 2
}
